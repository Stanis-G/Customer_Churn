{
 "cells": [
  {
   "cell_type": "markdown",
   "id": "d13a5c58",
   "metadata": {},
   "source": [
    "# Отток клиентов\n",
    "**Описание**\n",
    "\n",
    "Из «Бета-Банка» стали уходить клиенты. Каждый месяц. Немного, но заметно. Банковские маркетологи посчитали: сохранять текущих клиентов дешевле, чем привлекать новых.\n",
    "Нужно спрогнозировать, уйдёт клиент из банка в ближайшее время или нет. Вам предоставлены исторические данные о поведении клиентов и расторжении договоров с банком.\n",
    "[Источник данных](https://www.kaggle.com/barelydedicated/bank-customer-churn-modeling)\n",
    "\n",
    "**Описание данных**\n",
    "\n",
    "Признаки:\n",
    "- RowNumber – индекс строки в данных\n",
    "- CustomerId – уникальный идентификатор клиента\n",
    "- Surname – фамилия\n",
    "- CreditScore – кредитный скоринг\n",
    "- Geography – страна проживания\n",
    "- Gender – пол\n",
    "- Age – возраст\n",
    "- Tenure – количество недвижимости у клиента\n",
    "- Balance – баланс на счете\n",
    "- NumOfProducts – количество продуктов банка, используемых клиентом\n",
    "- HasCrCard – наличие кредитной карты\n",
    "- IsActiveMember – активность клиента\n",
    "- EstimatedSalary – предполагаемая зарплата\n",
    "\n",
    "Целевой признак:\n",
    "- Exited – факт ухода клиента"
   ]
  },
  {
   "cell_type": "code",
   "execution_count": 38,
   "id": "bdbc5c8b",
   "metadata": {},
   "outputs": [],
   "source": [
    "# Импортируем библиотеки\n",
    "\n",
    "import pandas as pd\n",
    "import numpy as np\n",
    "import matplotlib.pyplot as plt\n",
    "import seaborn as sns\n",
    "from sklearn.model_selection import train_test_split\n",
    "from sklearn.model_selection import permutation_test_score\n",
    "from sklearn.model_selection import StratifiedKFold\n",
    "from sklearn.preprocessing import LabelEncoder, OneHotEncoder\n",
    "from sklearn.preprocessing import StandardScaler\n",
    "from sklearn_pandas import DataFrameMapper\n",
    "from sklearn.linear_model import LogisticRegression\n",
    "from sklearn.ensemble import GradientBoostingClassifier\n",
    "from sklearn.model_selection import GridSearchCV\n",
    "from sklearn.pipeline import Pipeline\n",
    "from sklearn.metrics import accuracy_score\n",
    "from sklearn.metrics import roc_curve, auc, roc_auc_score\n",
    "from sklearn.utils import resample"
   ]
  },
  {
   "cell_type": "markdown",
   "id": "e3b75a23",
   "metadata": {},
   "source": [
    "**Загрузка и предобработка данных**"
   ]
  },
  {
   "cell_type": "code",
   "execution_count": 39,
   "id": "e76611a8",
   "metadata": {},
   "outputs": [],
   "source": [
    "# Загружаем данные\n",
    "data = pd.read_csv('Churn_Modelling.csv')\n",
    "\n",
    "# Удаляем нерелевантные фичи\n",
    "data = data.drop(columns=['RowNumber', 'CustomerId', 'Surname'])\n",
    "\n",
    "# Формируем столбец с целевой переменной\n",
    "y = data['Exited']\n",
    "\n",
    "# Формируем таблицу признаков (Отбрасываем целевую переменную)\n",
    "X = data.drop(columns=['Exited'])\n",
    "\n",
    "# Делим данные на тренировочную и тестовую части в соотношении 70/30%\n",
    "x_train, x_test, y_train, y_test = train_test_split(X, y, test_size=0.3, random_state=0)\n",
    "\n",
    "# Создаем отдельные кортежи с названиями признаков для категориальных и непрерывных фичей\n",
    "columns_continuous = ('CreditScore', 'Age', 'Tenure', 'Balance', 'EstimatedSalary')\n",
    "columns_categorical = ('Geography', 'Gender', 'NumOfProducts', 'HasCrCard', 'IsActiveMember')\n",
    "\n",
    "# Создаем список с трансформерами для переменных\n",
    "# Для категориальных переменных: OneHotEncoder()\n",
    "# Для непрерывных переменных: StandardScaler()\n",
    "column_tuples = [ ([column], OneHotEncoder()) for column in columns_categorical]\n",
    "column_tuples = column_tuples + [([column], StandardScaler()) for column in columns_continuous]\n",
    "\n",
    "# Создаем объект DataFrameMapper для трансформации признаков\n",
    "mapper = DataFrameMapper(column_tuples, df_out=True)\n",
    "\n",
    "# Обучаем mapper на тренировочных данных и\n",
    "# трансформируем тренировочную и тестовую выборки\n",
    "x_train_processed = mapper.fit_transform(x_train)\n",
    "x_test_processed = mapper.transform(x_test)"
   ]
  },
  {
   "cell_type": "markdown",
   "id": "60c00ed6",
   "metadata": {},
   "source": [
    "**Построение логистической регрессии**"
   ]
  },
  {
   "cell_type": "code",
   "execution_count": 40,
   "id": "a397634f",
   "metadata": {},
   "outputs": [
    {
     "data": {
      "text/plain": [
       "GridSearchCV(cv=4, estimator=LogisticRegression(random_state=0),\n",
       "             param_grid={'C': array([0.001, 0.002, 0.003, 0.004, 0.005, 0.006, 0.007, 0.008, 0.009])},\n",
       "             scoring='roc_auc')"
      ]
     },
     "execution_count": 40,
     "metadata": {},
     "output_type": "execute_result"
    }
   ],
   "source": [
    "# Проводим кросс-валидацию для модели логистической регрессии,\n",
    "# находим наилучший коэффициент регуляризации и обучаем лучшую модель\n",
    "model = GridSearchCV(\n",
    "    LogisticRegression(random_state=0),\n",
    "    param_grid={'C': np.arange(0.001, 0.01, 0.001)},\n",
    "    scoring='roc_auc',\n",
    "    cv=4,\n",
    "    verbose=0)\n",
    "model.fit(x_train_processed, y_train)"
   ]
  },
  {
   "cell_type": "code",
   "execution_count": 41,
   "id": "69d4df39",
   "metadata": {},
   "outputs": [],
   "source": [
    "# Предсказываем значения для тренировочного и тестового датасета\n",
    "y_pred_train = model.decision_function(x_train_processed)\n",
    "y_pred_test = model.decision_function(x_test_processed)"
   ]
  },
  {
   "cell_type": "code",
   "execution_count": 42,
   "id": "22f955d4",
   "metadata": {},
   "outputs": [
    {
     "data": {
      "image/png": "[encoded data removed]",
      "text/plain": [
       "<Figure size 432x288 with 1 Axes>"
      ]
     },
     "metadata": {
      "needs_background": "light"
     },
     "output_type": "display_data"
    }
   ],
   "source": [
    "# Рассчитываем AUC\n",
    "fpr_train, tpr_train, thresholds_train = roc_curve(y_train, y_pred_train)\n",
    "fpr_test, tpr_test, thresholds_test = roc_curve(y_test, y_pred_test)\n",
    "auc_train = auc(fpr_train, tpr_train)\n",
    "auc_test = auc(fpr_test, tpr_test)\n",
    "\n",
    "# Строим ROC-кривые\n",
    "plt.plot(fpr_train, tpr_train,\n",
    "         label='train_data, AUC = %0.2f' % auc_train)\n",
    "plt.plot(fpr_test, tpr_test,\n",
    "         label='test_data, AUC = %0.2f' % auc_test)\n",
    "plt.plot([0, 1], [0, 1], color='navy', linestyle='--')\n",
    "plt.xlim([0.0, 1.0])\n",
    "plt.ylim([0.0, 1.05])\n",
    "plt.xlabel('False Positive Rate')\n",
    "plt.ylabel('True Positive Rate')\n",
    "plt.title('Logistic Regression')\n",
    "plt.legend(loc=\"lower right\")\n",
    "plt.show()"
   ]
  },
  {
   "cell_type": "code",
   "execution_count": 53,
   "id": "c9081e36",
   "metadata": {},
   "outputs": [
    {
     "data": {
      "text/plain": [
       "LogisticRegression(C=0.009000000000000001, random_state=0)"
      ]
     },
     "execution_count": 53,
     "metadata": {},
     "output_type": "execute_result"
    }
   ],
   "source": [
    "# Выводим параметры для лучшей модели\n",
    "model.best_estimator_"
   ]
  },
  {
   "cell_type": "markdown",
   "id": "179bb30e",
   "metadata": {},
   "source": [
    "Далее рассчитаем, является ли полученная модель статистически значимой. Для этого выберем порог значимости alpha = 5%. Чтобы понять, является ли модель статистически значимой, необходимо сравнить P-value с порогом alpha."
   ]
  },
  {
   "cell_type": "code",
   "execution_count": 49,
   "id": "e697d498",
   "metadata": {},
   "outputs": [
    {
     "name": "stdout",
     "output_type": "stream",
     "text": [
      "Best Score: 0.8202885969598368\n",
      "P-value: 0.000999000999000999\n"
     ]
    }
   ],
   "source": [
    "# Рассчитываем статистическую значимость модели логистической регрессии с лучшим коэффициентом регуляризации\n",
    "\n",
    "cv = StratifiedKFold(n_splits=2, shuffle=True, random_state=0)\n",
    "\n",
    "score, perm_scores, pvalue = permutation_test_score(\n",
    "    model.best_estimator_, x_train_processed, y_train,\n",
    "    scoring=\"roc_auc\", cv=cv, n_permutations=1000, n_jobs=-1)\n",
    "\n",
    "print('Best Score: {}'.format(model.best_score_))\n",
    "print('P-value: {}'.format(pvalue))"
   ]
  },
  {
   "cell_type": "markdown",
   "id": "b29498fb",
   "metadata": {},
   "source": [
    "P-value показывает вероятность того, что Score модели обусловлен случайностью. Так как P-value < alpha ( 0.1% < 5% ), то можно утверждать, что полученное значение Score не является случайностью, а обусловлено правильным подбором параметров модели."
   ]
  },
  {
   "cell_type": "markdown",
   "id": "d8399b5f",
   "metadata": {},
   "source": [
    "**Применение градиентного бустинга**"
   ]
  },
  {
   "cell_type": "code",
   "execution_count": 44,
   "id": "096e8955",
   "metadata": {},
   "outputs": [
    {
     "data": {
      "text/plain": [
       "GridSearchCV(cv=4,\n",
       "             estimator=GradientBoostingClassifier(min_samples_leaf=0.1,\n",
       "                                                  min_samples_split=0.1,\n",
       "                                                  random_state=0,\n",
       "                                                  subsample=0.9),\n",
       "             n_jobs=-1,\n",
       "             param_grid={'learning_rate': array([0.1, 0.2, 0.3, 0.4]),\n",
       "                         'max_depth': array([10, 15, 20]),\n",
       "                         'max_features': array([1, 2, 3, 4, 5, 6, 7]),\n",
       "                         'n_estimators': array([ 10,  20,  30,  40,  50,  60,  70,  80,  90, 100, 110, 120, 130,\n",
       "       140, 150, 160, 170, 180, 190])},\n",
       "             scoring='roc_auc')"
      ]
     },
     "execution_count": 44,
     "metadata": {},
     "output_type": "execute_result"
    }
   ],
   "source": [
    "# Проводим кросс-валидацию, находим наилучшие значения гиперпараметров и обучаем лучшую модель\n",
    "model_boost = GridSearchCV(\n",
    "    GradientBoostingClassifier(random_state=0, min_samples_split=0.1,\n",
    "                               min_samples_leaf=0.1, subsample=0.9),\n",
    "    param_grid={'n_estimators': np.arange(10, 200, 10),\n",
    "                'learning_rate': np.arange(0.1, 0.5, 0.1),\n",
    "                'max_depth': np.arange(10, 25, 5),\n",
    "                'max_features': np.arange(1, 8, 1)},\n",
    "    scoring='roc_auc',\n",
    "    cv=4,\n",
    "    n_jobs=-1)\n",
    "model_boost.fit(x_train_processed, y_train)"
   ]
  },
  {
   "cell_type": "code",
   "execution_count": 45,
   "id": "ee5a1415",
   "metadata": {},
   "outputs": [],
   "source": [
    "# Предсказываем значения для тренировочной и тестовой выборки\n",
    "y_pred_train_boost = model_boost.decision_function(x_train_processed)\n",
    "y_pred_test_boost = model_boost.decision_function(x_test_processed)"
   ]
  },
  {
   "cell_type": "code",
   "execution_count": 46,
   "id": "41a07c9c",
   "metadata": {
    "scrolled": true
   },
   "outputs": [
    {
     "data": {
      "image/png": "[encoded data removed]",
      "text/plain": [
       "<Figure size 432x288 with 1 Axes>"
      ]
     },
     "metadata": {
      "needs_background": "light"
     },
     "output_type": "display_data"
    }
   ],
   "source": [
    "# Рассчитываем AUC\n",
    "fpr_train_boost, tpr_train_boost, thresholds_train = roc_curve(y_train, y_pred_train_boost)\n",
    "fpr_test_boost, tpr_test_boost, thresholds_test = roc_curve(y_test, y_pred_test_boost)\n",
    "auc_train_boost = auc(fpr_train_boost, tpr_train_boost)\n",
    "auc_test_boost = auc(fpr_test_boost, tpr_test_boost)\n",
    "\n",
    "# Строим ROC-кривые\n",
    "plt.plot(fpr_train_boost, tpr_train_boost,\n",
    "         label='train_data, AUC = %0.2f' % auc_train_boost)\n",
    "plt.plot(fpr_test_boost, tpr_test_boost,\n",
    "         label='test_data, AUC = %0.2f' % auc_test_boost)\n",
    "plt.plot([0, 1], [0, 1], color='navy', linestyle='--')\n",
    "plt.xlim([0.0, 1.0])\n",
    "plt.ylim([0.0, 1.05])\n",
    "plt.xlabel('False Positive Rate')\n",
    "plt.ylabel('True Positive Rate')\n",
    "plt.title('Gradient Boosting')\n",
    "plt.legend(loc=\"lower right\")\n",
    "plt.show()"
   ]
  },
  {
   "cell_type": "code",
   "execution_count": 47,
   "id": "f7e21352",
   "metadata": {},
   "outputs": [
    {
     "data": {
      "text/plain": [
       "GradientBoostingClassifier(learning_rate=0.2, max_depth=10, max_features=7,\n",
       "                           min_samples_leaf=0.1, min_samples_split=0.1,\n",
       "                           n_estimators=130, random_state=0, subsample=0.9)"
      ]
     },
     "execution_count": 47,
     "metadata": {},
     "output_type": "execute_result"
    }
   ],
   "source": [
    "# Выводим параметры для лучшей модели\n",
    "model_boost.best_estimator_"
   ]
  },
  {
   "cell_type": "code",
   "execution_count": 54,
   "id": "77ded00b",
   "metadata": {},
   "outputs": [
    {
     "name": "stdout",
     "output_type": "stream",
     "text": [
      "Best Score: 0.8511945955352662\n",
      "P-value: 0.000999000999000999\n"
     ]
    }
   ],
   "source": [
    "score_boost, perm_scores_boost, pvalue_boost = permutation_test_score(\n",
    "    model_boost.best_estimator_, x_train_processed, y_train,\n",
    "    scoring=\"roc_auc\", cv=cv, n_permutations=1000, n_jobs=-1)\n",
    "\n",
    "print('Best Score: {}'.format(model_boost.best_score_))\n",
    "print('P-value: {}'.format(pvalue_boost))"
   ]
  },
  {
   "cell_type": "markdown",
   "id": "cd0e0b60",
   "metadata": {},
   "source": [
    "Полученное значение P-value также меньше порога alpha, поэтому результат данной модели определен не случайностью, а правильно подобранными параметрами модели."
   ]
  },
  {
   "cell_type": "markdown",
   "id": "36443d8b",
   "metadata": {},
   "source": [
    "**Заключение**\n",
    "\n",
    "Для предсказания ухода клиентов была проведена предобработка данных, включающая удаление нерелевантных признаков, стандартизацию непрерывных и кодирование категориальных признаков. Данные были разделены на тренировочную (70%) и тестовую (30%) части. Далее были построены модели логистической регрессии и градиентного бустинга над решающими деревьями. Для определения гиперпараметров моделей использовалась кросс-валидация по сетке значений гиперпараметров. Наилучшие значения гиперпараметров определялись путем максимизации метрики AUC.\n",
    "\n",
    "Расчет P-значения показал, что обе модели являются статистически значимыми (полученные значения метрики AUC обусловлены правильным подбором гиперпараметров моделей, а не случайностью).\n",
    "\n",
    "Наилучшей моделью оказалась модель градиентного бустинга с параметрами (learning_rate=0.2, max_depth=10, max_features=7, min_samples_leaf=0.1, min_samples_split=0.1, n_estimators=130, random_state=0, subsample=0.9). Значение AUC, полученное при помощи данной модели, составило 0.88 для тренировочной и 0.87 для тестовой выборки."
   ]
  }
 ],
 "metadata": {
  "kernelspec": {
   "display_name": "Python 3 (ipykernel)",
   "language": "python",
   "name": "python3"
  },
  "language_info": {
   "codemirror_mode": {
    "name": "ipython",
    "version": 3
   },
   "file_extension": ".py",
   "mimetype": "text/x-python",
   "name": "python",
   "nbconvert_exporter": "python",
   "pygments_lexer": "ipython3",
   "version": "3.9.7"
  }
 },
 "nbformat": 4,
 "nbformat_minor": 5
}
